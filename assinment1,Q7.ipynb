{
 "cells": [
  {
   "cell_type": "code",
   "execution_count": 7,
   "id": "0c177f7e-1eef-46c5-9cce-0addec8e1414",
   "metadata": {},
   "outputs": [],
   "source": [
    "# Question no 1\n",
    "a=\"Bishal\"\n",
    "b=[1,2,\"earth\",4+5j,22.6,True,False]\n",
    "c=78.5"
   ]
  },
  {
   "cell_type": "code",
   "execution_count": null,
   "id": "27e5565f-aeb7-471e-88a8-0ac05ac710b1",
   "metadata": {},
   "outputs": [],
   "source": [
    "#question no 2\n",
    "var1=''#string type data \n",
    "var2='[DS,MS,PYTHON]'#string type data#string type data\n",
    "var3=['DS','MS','PYTHON']#string type data\n",
    "var4=1#int type data"
   ]
  },
  {
   "cell_type": "code",
   "execution_count": 12,
   "id": "5a24adb5-6523-44a2-8e5c-70d88702753f",
   "metadata": {},
   "outputs": [
    {
     "data": {
      "text/plain": [
       "8"
      ]
     },
     "execution_count": 12,
     "metadata": {},
     "output_type": "execute_result"
    }
   ],
   "source": [
    "#Question no3\n",
    "#division /\n",
    "4/2# output is 2\n",
    "#modulus %\n",
    "3%4 # output is 3\n",
    "#floor division //\n",
    "3//4  #output is 0\n",
    "# exponentiation **\n",
    "2**3 # output is 8"
   ]
  },
  {
   "cell_type": "code",
   "execution_count": 5,
   "id": "d4583f82-9e76-4fb1-aa04-bd6bd275c740",
   "metadata": {},
   "outputs": [
    {
     "name": "stdout",
     "output_type": "stream",
     "text": [
      "3\n",
      "6\n",
      "9\n",
      "12\n",
      "15\n",
      "18\n",
      "21\n",
      "24\n"
     ]
    }
   ],
   "source": [
    "#Question no7:\n",
    "l=[1,2,3,4,5,6,\n",
    "  7,8,9,10,11,12,13,14,15,16,17,18,19,20,21,22,23,24,25]\n",
    "for i in l:\n",
    "    if i%3==0:\n",
    "        print(i)\n",
    "        \n"
   ]
  },
  {
   "cell_type": "code",
   "execution_count": null,
   "id": "a93c7eab-b5a3-46cf-ba05-58adeaad20c5",
   "metadata": {},
   "outputs": [
    {
     "name": "stdout",
     "output_type": "stream",
     "text": [
      "<class 'int'>\n",
      "<class 'int'>\n",
      "<class 'int'>\n",
      "<class 'int'>\n",
      "<class 'str'>\n",
      "<class 'bool'>\n",
      "<class 'bool'>\n",
      "<class 'float'>\n",
      "<class 'complex'>\n",
      "<class 'int'>\n"
     ]
    }
   ],
   "source": [
    "#question no 4\n",
    "l=[1,2,3,4,\"bishal\",True,False,45.8,4+5j,22]\n",
    "for i in l:\n",
    "    print(type(i))"
   ]
  },
  {
   "cell_type": "code",
   "execution_count": 13,
   "id": "e778eaed-b40b-4f5f-8406-ef781f43f4a9",
   "metadata": {},
   "outputs": [],
   "source": [
    "'''Immutable: An object whose internal state cannot be changed is called immutable'''\n",
    "a=\"bishal\""
   ]
  },
  {
   "cell_type": "code",
   "execution_count": 14,
   "id": "6d4b0e63-63be-4de1-87c8-18d65c0ddb59",
   "metadata": {},
   "outputs": [
    {
     "ename": "NameError",
     "evalue": "name 'v' is not defined",
     "output_type": "error",
     "traceback": [
      "\u001b[0;31m---------------------------------------------------------------------------\u001b[0m",
      "\u001b[0;31mNameError\u001b[0m                                 Traceback (most recent call last)",
      "Cell \u001b[0;32mIn[14], line 1\u001b[0m\n\u001b[0;32m----> 1\u001b[0m a[\u001b[38;5;241m1\u001b[39m]\u001b[38;5;241m=\u001b[39m\u001b[43mv\u001b[49m\n",
      "\u001b[0;31mNameError\u001b[0m: name 'v' is not defined"
     ]
    }
   ],
   "source": [
    "a[1]=v"
   ]
  },
  {
   "cell_type": "code",
   "execution_count": 15,
   "id": "6ae02465-2e6f-44f8-8477-5c5165f74d0f",
   "metadata": {},
   "outputs": [],
   "source": [
    "'''An object whose internal state can be change is called mutable'''\n",
    "l=[1,2,4,\"mondal\",4+5j,True]"
   ]
  },
  {
   "cell_type": "code",
   "execution_count": 16,
   "id": "24decb6b-3dfa-4cf8-a1fe-77cee93edb5d",
   "metadata": {},
   "outputs": [],
   "source": [
    "l[2]=6"
   ]
  },
  {
   "cell_type": "code",
   "execution_count": 17,
   "id": "7cd9642b-0d28-49c8-9e4a-422154e41e1d",
   "metadata": {},
   "outputs": [
    {
     "data": {
      "text/plain": [
       "[1, 2, 6, 'mondal', (4+5j), True]"
      ]
     },
     "execution_count": 17,
     "metadata": {},
     "output_type": "execute_result"
    }
   ],
   "source": [
    "l"
   ]
  },
  {
   "cell_type": "code",
   "execution_count": null,
   "id": "92ca7bc5-234f-4a1c-8af8-e48901ef0c32",
   "metadata": {},
   "outputs": [],
   "source": []
  }
 ],
 "metadata": {
  "kernelspec": {
   "display_name": "Python 3 (ipykernel)",
   "language": "python",
   "name": "python3"
  },
  "language_info": {
   "codemirror_mode": {
    "name": "ipython",
    "version": 3
   },
   "file_extension": ".py",
   "mimetype": "text/x-python",
   "name": "python",
   "nbconvert_exporter": "python",
   "pygments_lexer": "ipython3",
   "version": "3.10.8"
  }
 },
 "nbformat": 4,
 "nbformat_minor": 5
}
